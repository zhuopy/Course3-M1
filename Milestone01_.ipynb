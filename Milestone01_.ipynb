{
 "cells": [
  {
   "cell_type": "code",
   "execution_count": 1,
   "metadata": {},
   "outputs": [],
   "source": [
    "import pandas as pd\n",
    "import numpy as np"
   ]
  },
  {
   "cell_type": "markdown",
   "metadata": {},
   "source": [
    "#### Read and merge data"
   ]
  },
  {
   "cell_type": "code",
   "execution_count": 2,
   "metadata": {},
   "outputs": [],
   "source": [
    "#read two data files\n",
    "df = pd.read_excel('secom.xlsx',header= None)\n",
    "label = pd.read_excel('secom_labels.xlsx', header = None)"
   ]
  },
  {
   "cell_type": "code",
   "execution_count": 3,
   "metadata": {},
   "outputs": [
    {
     "data": {
      "text/html": [
       "<div>\n",
       "<style scoped>\n",
       "    .dataframe tbody tr th:only-of-type {\n",
       "        vertical-align: middle;\n",
       "    }\n",
       "\n",
       "    .dataframe tbody tr th {\n",
       "        vertical-align: top;\n",
       "    }\n",
       "\n",
       "    .dataframe thead th {\n",
       "        text-align: right;\n",
       "    }\n",
       "</style>\n",
       "<table border=\"1\" class=\"dataframe\">\n",
       "  <thead>\n",
       "    <tr style=\"text-align: right;\">\n",
       "      <th></th>\n",
       "      <th>class</th>\n",
       "      <th>time</th>\n",
       "      <th>0_sensor</th>\n",
       "      <th>1_sensor</th>\n",
       "      <th>2_sensor</th>\n",
       "      <th>3_sensor</th>\n",
       "      <th>4_sensor</th>\n",
       "      <th>5_sensor</th>\n",
       "      <th>6_sensor</th>\n",
       "      <th>7_sensor</th>\n",
       "      <th>...</th>\n",
       "      <th>580_sensor</th>\n",
       "      <th>581_sensor</th>\n",
       "      <th>582_sensor</th>\n",
       "      <th>583_sensor</th>\n",
       "      <th>584_sensor</th>\n",
       "      <th>585_sensor</th>\n",
       "      <th>586_sensor</th>\n",
       "      <th>587_sensor</th>\n",
       "      <th>588_sensor</th>\n",
       "      <th>589_sensor</th>\n",
       "    </tr>\n",
       "  </thead>\n",
       "  <tbody>\n",
       "    <tr>\n",
       "      <th>0</th>\n",
       "      <td>-1</td>\n",
       "      <td>19/07/2008 11:55:00</td>\n",
       "      <td>3030.93</td>\n",
       "      <td>2564.00</td>\n",
       "      <td>2187.7333</td>\n",
       "      <td>1411.1265</td>\n",
       "      <td>1.3602</td>\n",
       "      <td>100.0</td>\n",
       "      <td>97.6133</td>\n",
       "      <td>0.1242</td>\n",
       "      <td>...</td>\n",
       "      <td>NaN</td>\n",
       "      <td>NaN</td>\n",
       "      <td>0.5005</td>\n",
       "      <td>0.0118</td>\n",
       "      <td>0.0035</td>\n",
       "      <td>2.3630</td>\n",
       "      <td>NaN</td>\n",
       "      <td>NaN</td>\n",
       "      <td>NaN</td>\n",
       "      <td>NaN</td>\n",
       "    </tr>\n",
       "    <tr>\n",
       "      <th>1</th>\n",
       "      <td>-1</td>\n",
       "      <td>19/07/2008 12:32:00</td>\n",
       "      <td>3095.78</td>\n",
       "      <td>2465.14</td>\n",
       "      <td>2230.4222</td>\n",
       "      <td>1463.6606</td>\n",
       "      <td>0.8294</td>\n",
       "      <td>100.0</td>\n",
       "      <td>102.3433</td>\n",
       "      <td>0.1247</td>\n",
       "      <td>...</td>\n",
       "      <td>0.0060</td>\n",
       "      <td>208.2045</td>\n",
       "      <td>0.5019</td>\n",
       "      <td>0.0223</td>\n",
       "      <td>0.0055</td>\n",
       "      <td>4.4447</td>\n",
       "      <td>0.0096</td>\n",
       "      <td>0.0201</td>\n",
       "      <td>0.0060</td>\n",
       "      <td>208.2045</td>\n",
       "    </tr>\n",
       "    <tr>\n",
       "      <th>2</th>\n",
       "      <td>1</td>\n",
       "      <td>19/07/2008 13:17:00</td>\n",
       "      <td>2932.61</td>\n",
       "      <td>2559.94</td>\n",
       "      <td>2186.4111</td>\n",
       "      <td>1698.0172</td>\n",
       "      <td>1.5102</td>\n",
       "      <td>100.0</td>\n",
       "      <td>95.4878</td>\n",
       "      <td>0.1241</td>\n",
       "      <td>...</td>\n",
       "      <td>0.0148</td>\n",
       "      <td>82.8602</td>\n",
       "      <td>0.4958</td>\n",
       "      <td>0.0157</td>\n",
       "      <td>0.0039</td>\n",
       "      <td>3.1745</td>\n",
       "      <td>0.0584</td>\n",
       "      <td>0.0484</td>\n",
       "      <td>0.0148</td>\n",
       "      <td>82.8602</td>\n",
       "    </tr>\n",
       "    <tr>\n",
       "      <th>3</th>\n",
       "      <td>-1</td>\n",
       "      <td>19/07/2008 14:43:00</td>\n",
       "      <td>2988.72</td>\n",
       "      <td>2479.90</td>\n",
       "      <td>2199.0333</td>\n",
       "      <td>909.7926</td>\n",
       "      <td>1.3204</td>\n",
       "      <td>100.0</td>\n",
       "      <td>104.2367</td>\n",
       "      <td>0.1217</td>\n",
       "      <td>...</td>\n",
       "      <td>0.0044</td>\n",
       "      <td>73.8432</td>\n",
       "      <td>0.4990</td>\n",
       "      <td>0.0103</td>\n",
       "      <td>0.0025</td>\n",
       "      <td>2.0544</td>\n",
       "      <td>0.0202</td>\n",
       "      <td>0.0149</td>\n",
       "      <td>0.0044</td>\n",
       "      <td>73.8432</td>\n",
       "    </tr>\n",
       "    <tr>\n",
       "      <th>4</th>\n",
       "      <td>-1</td>\n",
       "      <td>19/07/2008 15:22:00</td>\n",
       "      <td>3032.24</td>\n",
       "      <td>2502.87</td>\n",
       "      <td>2233.3667</td>\n",
       "      <td>1326.5200</td>\n",
       "      <td>1.5334</td>\n",
       "      <td>100.0</td>\n",
       "      <td>100.3967</td>\n",
       "      <td>0.1235</td>\n",
       "      <td>...</td>\n",
       "      <td>NaN</td>\n",
       "      <td>NaN</td>\n",
       "      <td>0.4800</td>\n",
       "      <td>0.4766</td>\n",
       "      <td>0.1045</td>\n",
       "      <td>99.3032</td>\n",
       "      <td>0.0202</td>\n",
       "      <td>0.0149</td>\n",
       "      <td>0.0044</td>\n",
       "      <td>73.8432</td>\n",
       "    </tr>\n",
       "  </tbody>\n",
       "</table>\n",
       "<p>5 rows × 592 columns</p>\n",
       "</div>"
      ],
      "text/plain": [
       "   class                 time  0_sensor  1_sensor   2_sensor   3_sensor  \\\n",
       "0     -1  19/07/2008 11:55:00   3030.93   2564.00  2187.7333  1411.1265   \n",
       "1     -1  19/07/2008 12:32:00   3095.78   2465.14  2230.4222  1463.6606   \n",
       "2      1  19/07/2008 13:17:00   2932.61   2559.94  2186.4111  1698.0172   \n",
       "3     -1  19/07/2008 14:43:00   2988.72   2479.90  2199.0333   909.7926   \n",
       "4     -1  19/07/2008 15:22:00   3032.24   2502.87  2233.3667  1326.5200   \n",
       "\n",
       "   4_sensor  5_sensor  6_sensor  7_sensor  ...  580_sensor  581_sensor  \\\n",
       "0    1.3602     100.0   97.6133    0.1242  ...         NaN         NaN   \n",
       "1    0.8294     100.0  102.3433    0.1247  ...      0.0060    208.2045   \n",
       "2    1.5102     100.0   95.4878    0.1241  ...      0.0148     82.8602   \n",
       "3    1.3204     100.0  104.2367    0.1217  ...      0.0044     73.8432   \n",
       "4    1.5334     100.0  100.3967    0.1235  ...         NaN         NaN   \n",
       "\n",
       "   582_sensor  583_sensor  584_sensor  585_sensor  586_sensor  587_sensor  \\\n",
       "0      0.5005      0.0118      0.0035      2.3630         NaN         NaN   \n",
       "1      0.5019      0.0223      0.0055      4.4447      0.0096      0.0201   \n",
       "2      0.4958      0.0157      0.0039      3.1745      0.0584      0.0484   \n",
       "3      0.4990      0.0103      0.0025      2.0544      0.0202      0.0149   \n",
       "4      0.4800      0.4766      0.1045     99.3032      0.0202      0.0149   \n",
       "\n",
       "   588_sensor  589_sensor  \n",
       "0         NaN         NaN  \n",
       "1      0.0060    208.2045  \n",
       "2      0.0148     82.8602  \n",
       "3      0.0044     73.8432  \n",
       "4      0.0044     73.8432  \n",
       "\n",
       "[5 rows x 592 columns]"
      ]
     },
     "execution_count": 3,
     "metadata": {},
     "output_type": "execute_result"
    }
   ],
   "source": [
    "#merge two data sets\n",
    "label.columns = ['class', 'time']\n",
    "df = df.add_suffix('_sensor')\n",
    "data = pd.concat([label,df], axis=1)\n",
    "data.head()"
   ]
  },
  {
   "cell_type": "markdown",
   "metadata": {},
   "source": [
    "#### Clean and prepare data"
   ]
  },
  {
   "cell_type": "markdown",
   "metadata": {},
   "source": [
    "Clean dataset, impute missing values. \n",
    "\n",
    "First, check whether target attribute has NaN, if yes, drop NaN in class, since imputing class label is not that reasonable."
   ]
  },
  {
   "cell_type": "code",
   "execution_count": 4,
   "metadata": {},
   "outputs": [
    {
     "name": "stdout",
     "output_type": "stream",
     "text": [
      "0\n"
     ]
    }
   ],
   "source": [
    "print(sum(data['class'].isnull()))"
   ]
  },
  {
   "cell_type": "markdown",
   "metadata": {},
   "source": [
    "Target varibles have no NaN. \n",
    "\n",
    "Check whether time_stamp has NaN. Again, this one is not reasonable to impute values. "
   ]
  },
  {
   "cell_type": "code",
   "execution_count": 5,
   "metadata": {},
   "outputs": [
    {
     "name": "stdout",
     "output_type": "stream",
     "text": [
      "0\n"
     ]
    }
   ],
   "source": [
    "print(sum(data['time'].isnull()))"
   ]
  },
  {
   "cell_type": "markdown",
   "metadata": {},
   "source": [
    "No missing values in time_stamp.\n",
    "\n",
    "Next step, we can loop through each column, and impute missing values with median."
   ]
  },
  {
   "cell_type": "code",
   "execution_count": 6,
   "metadata": {
    "scrolled": true
   },
   "outputs": [],
   "source": [
    "for i in range(0,590):\n",
    "    name = str(i) +'_sensor'\n",
    "    HasNan =data[name].isnull()\n",
    "    if sum(HasNan) > 0:\n",
    "        data.loc[HasNan, name] =  np.mean(data[name])"
   ]
  },
  {
   "cell_type": "markdown",
   "metadata": {},
   "source": [
    "Data is cleaned with missing values.\n",
    "\n",
    "There is no more missing values.  Let's take care of time_stamp data. Time_stamp data is a little bit messy, has different kind of format"
   ]
  },
  {
   "cell_type": "code",
   "execution_count": 7,
   "metadata": {},
   "outputs": [],
   "source": [
    "#convert time_stamp to datetime format\n",
    "data['time'] = pd.to_datetime(data['time'])"
   ]
  },
  {
   "cell_type": "markdown",
   "metadata": {},
   "source": [
    "Now, the data is cleaned and ready for further exploration."
   ]
  },
  {
   "cell_type": "markdown",
   "metadata": {},
   "source": [
    "#### Visually explore data"
   ]
  },
  {
   "cell_type": "code",
   "execution_count": 8,
   "metadata": {},
   "outputs": [],
   "source": [
    "import matplotlib.pyplot as plt\n",
    "import seaborn as sns "
   ]
  },
  {
   "cell_type": "code",
   "execution_count": 9,
   "metadata": {},
   "outputs": [
    {
     "data": {
      "image/png": "[encoded data removed]",
      "text/plain": [
       "<Figure size 432x288 with 1 Axes>"
      ]
     },
     "metadata": {
      "needs_background": "light"
     },
     "output_type": "display_data"
    }
   ],
   "source": [
    "plt.scatter(data['time'],data['class'])\n",
    "plt.xlabel('Time')\n",
    "plt.ylabel('Class')\n",
    "plt.title('Class changes vs Time');"
   ]
  },
  {
   "cell_type": "markdown",
   "metadata": {},
   "source": [
    "No significant difference can be seen in this plot. But data are more concentrated in the region from 2008-09 to 2008-11."
   ]
  },
  {
   "cell_type": "code",
   "execution_count": 10,
   "metadata": {},
   "outputs": [
    {
     "data": {
      "image/png": "[encoded data removed]",
      "text/plain": [
       "<Figure size 864x864 with 2 Axes>"
      ]
     },
     "metadata": {
      "needs_background": "light"
     },
     "output_type": "display_data"
    }
   ],
   "source": [
    "#plot correalations between variables\n",
    "sub_data = data.iloc[:,2:80]\n",
    "corr = sub_data.corr()\n",
    "fig,ax =plt.subplots()\n",
    "ax = sns.heatmap(\n",
    "    corr, \n",
    "    vmin=-1, vmax=1, center=0,\n",
    "    cmap=sns.diverging_palette(20, 220, n=200),\n",
    "    square=True\n",
    ")\n",
    "fig.set_size_inches(12,12)\n",
    "ax.set_xticklabels(\n",
    "    ax.get_xticklabels(),\n",
    "    rotation=45,\n",
    "    horizontalalignment='right'\n",
    ");"
   ]
  },
  {
   "cell_type": "markdown",
   "metadata": {},
   "source": [
    "From this correaltion matrix plot, we can see that some of the corrlations are positve (blue), some of them are negative (red). But most of them are grey, suggesting that variables are not related to each other. Notice that there are a few lines are pure white, suggesting the corresponding sensor doesn't have variance (that means it has constant values). A sensor has constant value is suspectable though. Another observation is sensors have higher correlation values to its neighbor sensors, implying that the nearby sensors are probably testing similar properties.\n",
    "\n",
    "Let's randomly choose two correlated sensors to see whether they have linear relationship. "
   ]
  },
  {
   "cell_type": "code",
   "execution_count": 11,
   "metadata": {},
   "outputs": [
    {
     "data": {
      "image/png": "[encoded data removed]",
      "text/plain": [
       "<Figure size 432x288 with 1 Axes>"
      ]
     },
     "metadata": {
      "needs_background": "light"
     },
     "output_type": "display_data"
    }
   ],
   "source": [
    "# sensor 25 and sensor 26 have a dark blue color, indicating they are correlated.\n",
    "plt.scatter( data['25_sensor'],data['26_sensor'])\n",
    "plt.xlabel('25_sensor')\n",
    "plt.ylabel('26_sensor')\n",
    "plt.title('25 vs 26 sensor');"
   ]
  },
  {
   "cell_type": "markdown",
   "metadata": {},
   "source": [
    "By only look at data of these two, it seems like they have linear dependence. This could imply that the property of 25 is linear related to property of 26."
   ]
  },
  {
   "cell_type": "markdown",
   "metadata": {},
   "source": [
    "#### Handle class imbalance problem"
   ]
  },
  {
   "cell_type": "code",
   "execution_count": 12,
   "metadata": {},
   "outputs": [],
   "source": [
    "# import SMOTE package\n",
    "from collections import Counter\n",
    "from imblearn.over_sampling import SMOTE \n",
    "from sklearn.model_selection import train_test_split"
   ]
  },
  {
   "cell_type": "code",
   "execution_count": 13,
   "metadata": {},
   "outputs": [
    {
     "name": "stdout",
     "output_type": "stream",
     "text": [
      "Original dataset shape Counter({-1: 1463, 1: 104})\n",
      "Resampled dataset shape Counter({-1: 1092, 1: 1092})\n"
     ]
    }
   ],
   "source": [
    "# handle imbalance data set using SMOTE\n",
    "X = data.iloc[:,2:]\n",
    "y= data['class']\n",
    "\n",
    "#split data first, then apply SMOTE on the training data set\n",
    "X_train, X_test, y_train, y_test = train_test_split (X,y, random_state =0)\n",
    "\n",
    "print('Original dataset shape {}'.format(Counter(y)))\n",
    "sm = SMOTE(random_state=0)\n",
    "X_res, y_res = sm.fit_sample(X_train, y_train)\n",
    "print('Resampled dataset shape {}'.format(Counter(y_res)))"
   ]
  },
  {
   "cell_type": "markdown",
   "metadata": {},
   "source": [
    "## Apply feature selection techniques to reduce dimensionality of data\n",
    "\n",
    "### Stepwise Model Selection\n"
   ]
  },
  {
   "cell_type": "markdown",
   "metadata": {},
   "source": [
    "#### Forward feature selection"
   ]
  },
  {
   "cell_type": "code",
   "execution_count": 14,
   "metadata": {},
   "outputs": [],
   "source": [
    "from mlxtend.feature_selection import SequentialFeatureSelector as SFS\n",
    "import matplotlib.pyplot as plt\n",
    "from mlxtend.plotting import plot_sequential_feature_selection as plot_sfs\n",
    "from sklearn.linear_model import LinearRegression"
   ]
  },
  {
   "cell_type": "code",
   "execution_count": 15,
   "metadata": {},
   "outputs": [
    {
     "data": {
      "image/png": "[encoded data removed]",
      "text/plain": [
       "<Figure size 432x288 with 1 Axes>"
      ]
     },
     "metadata": {
      "needs_background": "light"
     },
     "output_type": "display_data"
    }
   ],
   "source": [
    "lr = LinearRegression()\n",
    "\n",
    "sfs = SFS(lr, \n",
    "          k_features=10, # k_features has to be smaller or equal to the number of features. If equal to, it starts from\n",
    "                         # intercept to the full model\n",
    "          forward=True,  # forward\n",
    "          floating=False, \n",
    "          scoring='neg_mean_squared_error',\n",
    "          cv=10)\n",
    "\n",
    "sfs = sfs.fit(X_res, y_res)\n",
    "fig = plot_sfs(sfs.get_metric_dict(), kind='std_err')\n",
    "\n",
    "plt.title('Sequential Forward Selection (w. StdErr)')\n",
    "plt.grid()\n",
    "plt.show()"
   ]
  },
  {
   "cell_type": "markdown",
   "metadata": {},
   "source": [
    "Using 10 features, we can see the performance are improving with number of features. Let's try to increase the number of features."
   ]
  },
  {
   "cell_type": "code",
   "execution_count": 16,
   "metadata": {},
   "outputs": [
    {
     "data": {
      "image/png": "[encoded data removed]",
      "text/plain": [
       "<Figure size 432x288 with 1 Axes>"
      ]
     },
     "metadata": {
      "needs_background": "light"
     },
     "output_type": "display_data"
    }
   ],
   "source": [
    "sfs = SFS(lr, \n",
    "          k_features=30, # k_features has to be smaller or equal to the number of features. If equal to, it starts from\n",
    "                         # intercept to the full model\n",
    "          forward=True,  # forward\n",
    "          floating=False, \n",
    "          scoring='neg_mean_squared_error',\n",
    "          cv=10)\n",
    "\n",
    "sfs = sfs.fit(X_res, y_res)\n",
    "fig = plot_sfs(sfs.get_metric_dict(), kind='std_err')\n",
    "\n",
    "plt.title('Sequential Forward Selection (w. StdErr)')\n",
    "plt.grid()\n",
    "plt.show()"
   ]
  },
  {
   "cell_type": "code",
   "execution_count": 17,
   "metadata": {
    "scrolled": true
   },
   "outputs": [
    {
     "data": {
      "text/plain": [
       "{'feature_idx': (14,\n",
       "  31,\n",
       "  59,\n",
       "  64,\n",
       "  67,\n",
       "  68,\n",
       "  75,\n",
       "  77,\n",
       "  82,\n",
       "  86,\n",
       "  99,\n",
       "  102,\n",
       "  124,\n",
       "  129,\n",
       "  131,\n",
       "  132,\n",
       "  202,\n",
       "  212,\n",
       "  281,\n",
       "  310,\n",
       "  312,\n",
       "  337,\n",
       "  437,\n",
       "  439,\n",
       "  453,\n",
       "  486,\n",
       "  487,\n",
       "  488,\n",
       "  500,\n",
       "  511),\n",
       " 'cv_scores': array([-0.72376746, -0.72420322, -0.62584177, -0.49579676, -0.63365566,\n",
       "        -0.49453008, -0.43670871, -0.42192242, -0.40164822, -0.4094432 ]),\n",
       " 'avg_score': -0.5367517476034201,\n",
       " 'feature_names': ('14_sensor',\n",
       "  '31_sensor',\n",
       "  '59_sensor',\n",
       "  '64_sensor',\n",
       "  '67_sensor',\n",
       "  '68_sensor',\n",
       "  '75_sensor',\n",
       "  '77_sensor',\n",
       "  '82_sensor',\n",
       "  '86_sensor',\n",
       "  '99_sensor',\n",
       "  '102_sensor',\n",
       "  '124_sensor',\n",
       "  '129_sensor',\n",
       "  '131_sensor',\n",
       "  '132_sensor',\n",
       "  '202_sensor',\n",
       "  '212_sensor',\n",
       "  '281_sensor',\n",
       "  '310_sensor',\n",
       "  '312_sensor',\n",
       "  '337_sensor',\n",
       "  '437_sensor',\n",
       "  '439_sensor',\n",
       "  '453_sensor',\n",
       "  '486_sensor',\n",
       "  '487_sensor',\n",
       "  '488_sensor',\n",
       "  '500_sensor',\n",
       "  '511_sensor'),\n",
       " 'ci_bound': 0.09052422547016588,\n",
       " 'std_dev': 0.12188319241011601,\n",
       " 'std_err': 0.04062773080337201}"
      ]
     },
     "execution_count": 17,
     "metadata": {},
     "output_type": "execute_result"
    }
   ],
   "source": [
    "sfs.get_metric_dict()[30]"
   ]
  },
  {
   "cell_type": "markdown",
   "metadata": {},
   "source": [
    "Using 30 features, we can see that the performance gradually levels off, suggesting that increasing the number of features doesn't contribute a lot for performance improvement. I didn't further increase the number of features for the sake of short running time. "
   ]
  },
  {
   "cell_type": "markdown",
   "metadata": {},
   "source": [
    "#### Backward feature selection\n",
    "\n",
    "From forward feature selection, we learned that more 30 features yield the best performance, so we also use 30 features in backward feature selection."
   ]
  },
  {
   "cell_type": "code",
   "execution_count": 18,
   "metadata": {
    "scrolled": true
   },
   "outputs": [
    {
     "name": "stderr",
     "output_type": "stream",
     "text": [
      "C:\\Users\\zhuoy\\anaconda3\\lib\\site-packages\\sklearn\\utils\\validation.py:70: FutureWarning: Pass n_features_to_select=30 as keyword args. From version 0.25 passing these as positional arguments will result in an error\n",
      "  FutureWarning)\n"
     ]
    },
    {
     "name": "stdout",
     "output_type": "stream",
     "text": [
      "[False False False False False False False False False False False False\n",
      " False False False False False False False False False False False False\n",
      " False False False False False False False False False False  True False\n",
      "  True False False False False False False  True False  True False False\n",
      "  True False  True False False  True  True False  True  True False False\n",
      " False False False False False False False False False False False False\n",
      " False False False False False False False False False False False False\n",
      " False False False False False False False False False False False False\n",
      " False False False False  True  True False False False False False False\n",
      " False False False False False False False False False False False False\n",
      " False False False False False False False False False False False False\n",
      " False False False False False False False False False False False  True\n",
      " False False False  True False False False False False False False False\n",
      " False False False False False False False False False False False False\n",
      " False False False False  True False  True False False False False False\n",
      " False False False False False False False False False False False False\n",
      " False False False False False False False False False False False False\n",
      " False False False False False False False False False False False False\n",
      " False False False False  True False False False False False False False\n",
      " False False False False False False False False False False  True  True\n",
      " False False False False False False False False False False False False\n",
      " False False  True False False False False False False False False False\n",
      " False False False False False False False False False False False False\n",
      " False False  True False False False  True False False False False False\n",
      " False False False False False False False False False False False False\n",
      " False False False False False False False False False False False False\n",
      " False False False False False False False False False False False False\n",
      " False False False False False False False False False False False False\n",
      " False False False False False False False False False False False False\n",
      " False False False False False False False False False False False False\n",
      " False False False False False False False False False False False False\n",
      " False False False False  True  True False False False False False False\n",
      " False False False False False False False False  True False False False\n",
      " False False False False False False False False False False False False\n",
      " False False False False False False False False False False False False\n",
      " False False False False False False False False False False False False\n",
      " False False False False False False False False False False False False\n",
      " False False False False False False False False False False False False\n",
      " False False False False False False False False False False False False\n",
      " False False False False False False False False False False False False\n",
      " False False False False False False False False False False False False\n",
      " False False False False False False False False False False False False\n",
      " False False False False False False False False False False False False\n",
      " False False False False False False False False False False False False\n",
      " False False False False False False False False False False False False\n",
      " False False False  True  True False False False False False False False\n",
      " False False False False False False False False False False False False\n",
      " False False False False False False False False False False False False\n",
      " False False False  True  True False False False False False False False\n",
      "  True False]\n",
      "[439 396 342 403 303 448 346  89 124  44 111 257 204 444 350 428 366 248\n",
      " 203 202  58 412 435 437 445 115 116 186 297 206 103 357 201 266   1 406\n",
      "   1 110 247 407 379 310 447   1 254   1 258 372   1 451   1 378 450   1\n",
      "   1 374   1   1 199 265 127 332 129 335 305 252 259 333 130 449 128 363\n",
      " 360 410 191 242 264  83 274  56 200  45  90 253  72  26  61  93 422 384\n",
      " 429 275  20  75  12 132 312 453 144 212   1   1 393  13   8 112 207 391\n",
      " 195  14 239 209 177  34   6 390  67 226  96  23 271  79 197  82 192 418\n",
      " 171 272 231 213 102  84  38 356 235 294 334 376 325 402 270 452 237   1\n",
      "  97 101  62   1 280 455 300 438  99  70 170 176  31   5 386 414 398 417\n",
      " 446 182  66  78 185 190 152 187  36  87   1 208   1 108 173 105 454 465\n",
      " 165 134 277 140 166 122 456 225 337 469 461 457 459 476 478 157 328 423\n",
      " 151 321 322 302 319 352 324 273 221 316 395 138  69  25  76  50 107 193\n",
      "  17 123 290   7   1   3  43 349 211 431 472 148  71 467 483 471 495 477\n",
      " 473 474 468 464   1   1 492 462 463 460  86 142 137  52  80  63 355  49\n",
      " 180 120   1  74 493 466 501 505 497 486 458 475 503 502 481  39 160 233\n",
      " 293 370 424 245 392 269 470 236   1  94 240  11   1 282 479 299 228  98\n",
      " 106 281 174  30   4 385 415 397 416 442  64  65  77 183 189 125 184 267\n",
      "  85   9  88  10 149  53 131 491 480 485 230 168 214 220 163 362 487 260\n",
      " 326 482 488 490 484 496 507 113 263 219 150 256 262 284 336 223 323 377\n",
      " 301 361 364 359 404 172  28  24  81  47 205 145  16 371 291  57 100   2\n",
      "  42 340 250 382 509  19 246 178  18 500 521 514 523 512 529 494   1   1\n",
      " 489 506 518 504  15 229 158  51  59  29 354  48 179  32   1  73 517 524\n",
      " 522 515 519 513 499 516 511 498 510  68 308 331 283 295 314 243 381 358\n",
      " 520 339 244 210 440 426 118 279 508 348 227 343 119 169 296 285 434 375\n",
      " 419 432 330 367 329 383 394 351 238  37 241  27 146  40 109  54 104 525\n",
      " 532 527 164 135 215 139 278 121 531 224 347 528 561 530 548 526 552 249\n",
      " 436 255 261 306 413 318 320 222 373 327 133 317 365 559 433 441 408 443\n",
      " 399 430 401 405 304  91  35  60 181 338 368 353 557 425 409 533 543 554\n",
      " 544 550 547 556 558 555 420 421 542 560 541 546 198 141 136 286 194 427\n",
      " 389 143 313 167  46 147 551 553 549 545 540 534 535 536 537 538 539  41\n",
      " 159 234  33   1   1  55 289 315 309 287 218 216 298 344 292 387 217 288\n",
      " 196 162 161 380 276 126 232 153 155  92 154 268 369 188 411 251 345 114\n",
      " 341 311 156   1   1 388 175  22  21  95 117 307   1 400]\n"
     ]
    }
   ],
   "source": [
    "# Recursive Feature Elimination\n",
    "from sklearn.feature_selection import RFE #Recursive Feature Elimination\n",
    "from sklearn.linear_model import LinearRegression\n",
    "\n",
    "estimator = LinearRegression()\n",
    "selector = RFE(estimator, 30, step=1)#select 30 features. Step=1 means each step only remove 1 variable from the model\n",
    "selector = selector.fit(X_res, y_res)\n",
    "print(selector.support_) # The mask of selected features.\n",
    "print(selector.ranking_) # selected features are ranked 1. The 6th is the one that is removed first,\n",
    "                         # 2nd is the one that is removed last"
   ]
  },
  {
   "cell_type": "code",
   "execution_count": 19,
   "metadata": {},
   "outputs": [
    {
     "name": "stdout",
     "output_type": "stream",
     "text": [
      "index for selected feature in backward selection: [34, 36, 43, 45, 48, 50, 53, 54, 56, 57, 100, 101, 143, 147, 172, 174, 220, 238, 239, 254, 278, 282, 376, 377, 392, 543, 544, 579, 580, 588]\n"
     ]
    }
   ],
   "source": [
    "selected = selector.support_\n",
    "backward = [i for i, x in enumerate (selected ) if x]\n",
    "print('index for selected feature in backward selection:', backward)"
   ]
  },
  {
   "cell_type": "code",
   "execution_count": 20,
   "metadata": {},
   "outputs": [
    {
     "data": {
      "text/plain": [
       "set()"
      ]
     },
     "execution_count": 20,
     "metadata": {},
     "output_type": "execute_result"
    }
   ],
   "source": [
    "#find the common features selected from both models\n",
    "forward = [14,31,32,40,59,64,65,67,75,90,99,103,104,121, 131,145,151,155,188,198,200,290,312,433,437,445,488,499,511,575]\n",
    "set(backward) & set(forward)"
   ]
  },
  {
   "cell_type": "markdown",
   "metadata": {},
   "source": [
    "No feature is found in both forward and backward selections.Different algorithms give the different optimal value.  It would be interesting to see which one perofrms better when applying to model."
   ]
  },
  {
   "cell_type": "markdown",
   "metadata": {},
   "source": [
    "#### LASSO"
   ]
  },
  {
   "cell_type": "code",
   "execution_count": 21,
   "metadata": {},
   "outputs": [
    {
     "name": "stdout",
     "output_type": "stream",
     "text": [
      "[[-4.98318358e-03 -2.37556765e-03 -2.50591633e-02 -1.68245635e-03\n",
      "  -8.10220033e-01  6.69913691e-02 -2.13391887e-01  0.00000000e+00\n",
      "   0.00000000e+00  0.00000000e+00  0.00000000e+00  0.00000000e+00\n",
      "  -2.12764351e-02  0.00000000e+00 -7.01915995e-01  1.37742534e-01\n",
      "   8.68087183e-01  0.00000000e+00 -4.28949887e-02  0.00000000e+00\n",
      "   0.00000000e+00  2.26842689e-03 -5.27010502e-03  2.81131090e-04\n",
      "  -1.71030810e-04  0.00000000e+00  0.00000000e+00 -1.00400003e+00\n",
      "  -1.84454678e-01 -4.68492538e-01  0.00000000e+00 -3.42550199e-02\n",
      "   4.98120953e-01 -1.68820687e-01  2.69927682e-02 -2.40147865e-01\n",
      "   2.75266295e-03  2.03772839e-01  6.96664584e-02  1.16316751e-02\n",
      "  -3.76358507e-02 -7.78752491e-01  5.86468831e-02  2.70023291e-02\n",
      "  -6.23365111e-01  5.30542949e-02 -7.02069428e-03  0.00000000e+00\n",
      "  -2.26836337e-01  0.00000000e+00  4.75457554e-05 -6.46978736e-03\n",
      "   0.00000000e+00  0.00000000e+00  0.00000000e+00  7.61740843e-03\n",
      "   0.00000000e+00  0.00000000e+00  7.09876277e+00  3.59687500e-01\n",
      "  -5.67320110e-03  0.00000000e+00  0.00000000e+00  8.08331944e-01\n",
      "   1.16955284e+00 -1.17703564e+00 -5.41698569e-03 -4.96783312e-02\n",
      "  -1.22587458e-02  0.00000000e+00 -2.24599218e-03  4.21030202e-02\n",
      "   9.30537595e-02 -3.54248793e-05  0.00000000e+00  0.00000000e+00\n",
      "   0.00000000e+00  0.00000000e+00  0.00000000e+00  0.00000000e+00\n",
      "   0.00000000e+00  0.00000000e+00  0.00000000e+00  0.00000000e+00\n",
      "   0.00000000e+00  0.00000000e+00  0.00000000e+00  0.00000000e+00\n",
      "   1.03857745e-02  0.00000000e+00 -1.39865585e-03  7.53539138e-01\n",
      "   0.00000000e+00  0.00000000e+00  0.00000000e+00  0.00000000e+00\n",
      "   0.00000000e+00  0.00000000e+00  0.00000000e+00  1.78939264e+00\n",
      "   0.00000000e+00  0.00000000e+00  0.00000000e+00  0.00000000e+00\n",
      "   0.00000000e+00  0.00000000e+00  0.00000000e+00  0.00000000e+00\n",
      "  -4.84416455e+00  0.00000000e+00  0.00000000e+00 -4.45516301e-02\n",
      "   0.00000000e+00  0.00000000e+00  0.00000000e+00  1.66423660e-04\n",
      "   0.00000000e+00 -1.76413177e-01  0.00000000e+00  0.00000000e+00\n",
      "   0.00000000e+00  1.01558286e+00 -2.17804940e+00  1.85263204e-01\n",
      "   8.55166880e-01  0.00000000e+00  2.14505234e+00  0.00000000e+00\n",
      "  -1.72364110e+00  1.55829603e+00  0.00000000e+00  0.00000000e+00\n",
      "  -1.54478756e+01  2.54239202e-02 -3.44387986e-01 -5.07619587e-03\n",
      "   1.74803990e-02 -4.94062556e-02  1.40821925e-01 -1.26378796e-02\n",
      "   0.00000000e+00  0.00000000e+00  0.00000000e+00  0.00000000e+00\n",
      "   0.00000000e+00  0.00000000e+00  0.00000000e+00  0.00000000e+00\n",
      "   0.00000000e+00  0.00000000e+00  2.73902827e-01 -3.17866330e-01\n",
      "  -9.40154057e-02  0.00000000e+00  0.00000000e+00  0.00000000e+00\n",
      "   0.00000000e+00  0.00000000e+00  2.40119109e-02 -1.08856007e-02\n",
      "   4.44911231e-03 -2.29424521e-03  3.80094617e-04  0.00000000e+00\n",
      "   0.00000000e+00  0.00000000e+00  0.00000000e+00  0.00000000e+00\n",
      "   0.00000000e+00  0.00000000e+00  0.00000000e+00  0.00000000e+00\n",
      "   0.00000000e+00  0.00000000e+00  0.00000000e+00  0.00000000e+00\n",
      "   0.00000000e+00 -4.32846033e+00  0.00000000e+00  0.00000000e+00\n",
      "   0.00000000e+00  0.00000000e+00  0.00000000e+00 -1.57456807e-01\n",
      "   0.00000000e+00  0.00000000e+00  0.00000000e+00  5.99562865e-01\n",
      "   2.12575669e-01  0.00000000e+00  0.00000000e+00  0.00000000e+00\n",
      "   0.00000000e+00  0.00000000e+00  0.00000000e+00  0.00000000e+00\n",
      "   0.00000000e+00 -1.80476846e-02  0.00000000e+00  5.33461343e-01\n",
      "  -7.11027349e-02  3.81746219e-01  1.27821930e-01 -5.00422304e-02\n",
      "  -1.23926746e-01  5.98197107e-01  0.00000000e+00  2.81556198e-02\n",
      "  -7.22734414e-02  0.00000000e+00  0.00000000e+00  0.00000000e+00\n",
      "   0.00000000e+00  0.00000000e+00  0.00000000e+00  0.00000000e+00\n",
      "   0.00000000e+00  0.00000000e+00 -3.48552939e-01  0.00000000e+00\n",
      "   0.00000000e+00  0.00000000e+00  0.00000000e+00 -5.74096393e-02\n",
      "   0.00000000e+00  1.17532388e-02  0.00000000e+00  0.00000000e+00\n",
      "   0.00000000e+00  0.00000000e+00  0.00000000e+00  0.00000000e+00\n",
      "   0.00000000e+00  0.00000000e+00  0.00000000e+00  0.00000000e+00\n",
      "   0.00000000e+00  0.00000000e+00  0.00000000e+00  0.00000000e+00\n",
      "   0.00000000e+00  0.00000000e+00  0.00000000e+00  0.00000000e+00\n",
      "   0.00000000e+00  0.00000000e+00  3.54779700e-02  0.00000000e+00\n",
      "   0.00000000e+00  0.00000000e+00 -1.36947569e-01  0.00000000e+00\n",
      "   0.00000000e+00  0.00000000e+00  0.00000000e+00  0.00000000e+00\n",
      "   0.00000000e+00  0.00000000e+00  0.00000000e+00  0.00000000e+00\n",
      "   0.00000000e+00  0.00000000e+00  0.00000000e+00  0.00000000e+00\n",
      "   0.00000000e+00  0.00000000e+00  0.00000000e+00  0.00000000e+00\n",
      "  -4.52395751e-01  0.00000000e+00 -1.11961583e-02  0.00000000e+00\n",
      "  -2.29653883e-02 -2.59064098e-01  4.98677415e-02  0.00000000e+00\n",
      "   0.00000000e+00  8.05988015e-01  0.00000000e+00  0.00000000e+00\n",
      "   0.00000000e+00  0.00000000e+00  0.00000000e+00  0.00000000e+00\n",
      "   0.00000000e+00 -8.64730664e-01  0.00000000e+00  0.00000000e+00\n",
      "   0.00000000e+00 -1.07208946e+00  0.00000000e+00  0.00000000e+00\n",
      "   0.00000000e+00 -5.21186742e-02  1.39413602e-02 -8.11210963e-03\n",
      "   4.32179280e-03 -9.94266850e-04  0.00000000e+00  0.00000000e+00\n",
      "   0.00000000e+00  0.00000000e+00  0.00000000e+00  0.00000000e+00\n",
      "   0.00000000e+00  0.00000000e+00  0.00000000e+00  0.00000000e+00\n",
      "   0.00000000e+00  0.00000000e+00  0.00000000e+00  0.00000000e+00\n",
      "   0.00000000e+00  0.00000000e+00  0.00000000e+00  0.00000000e+00\n",
      "  -4.48185710e-01  0.00000000e+00  2.86551462e+00  6.43237962e-01\n",
      "   0.00000000e+00 -8.72731095e-01  0.00000000e+00  0.00000000e+00\n",
      "  -4.57873144e-01  0.00000000e+00  0.00000000e+00  0.00000000e+00\n",
      "   0.00000000e+00  0.00000000e+00  0.00000000e+00  0.00000000e+00\n",
      "  -1.04351737e+00  3.31222313e+00  0.00000000e+00  1.61695429e-01\n",
      "  -1.78485323e+00  0.00000000e+00  0.00000000e+00  0.00000000e+00\n",
      "   2.77666686e-01 -2.03404701e+00  0.00000000e+00  0.00000000e+00\n",
      "   2.31432084e-01  0.00000000e+00  4.76280941e-02  0.00000000e+00\n",
      "   0.00000000e+00  0.00000000e+00  0.00000000e+00  0.00000000e+00\n",
      "   0.00000000e+00  0.00000000e+00  0.00000000e+00  0.00000000e+00\n",
      "   0.00000000e+00  0.00000000e+00  0.00000000e+00  0.00000000e+00\n",
      "   0.00000000e+00  1.86983657e-01  0.00000000e+00 -4.07170108e-02\n",
      "   0.00000000e+00  0.00000000e+00  0.00000000e+00  0.00000000e+00\n",
      "   0.00000000e+00  0.00000000e+00  0.00000000e+00  0.00000000e+00\n",
      "   0.00000000e+00  0.00000000e+00  0.00000000e+00  0.00000000e+00\n",
      "   0.00000000e+00  0.00000000e+00  0.00000000e+00  0.00000000e+00\n",
      "   0.00000000e+00  0.00000000e+00  0.00000000e+00  0.00000000e+00\n",
      "   0.00000000e+00  0.00000000e+00  0.00000000e+00  0.00000000e+00\n",
      "   4.96091461e-01  0.00000000e+00 -3.82094990e+00  0.00000000e+00\n",
      "   0.00000000e+00  0.00000000e+00  0.00000000e+00  0.00000000e+00\n",
      "   0.00000000e+00  0.00000000e+00  0.00000000e+00  0.00000000e+00\n",
      "   0.00000000e+00  0.00000000e+00  0.00000000e+00  0.00000000e+00\n",
      "   0.00000000e+00  0.00000000e+00  1.10592361e+00  2.34275070e+00\n",
      "   0.00000000e+00  0.00000000e+00  1.26153943e+00  0.00000000e+00\n",
      "   0.00000000e+00 -4.35586951e-02  0.00000000e+00 -9.07793271e-01\n",
      "  -4.14120916e-01 -3.54185168e-01 -9.45755968e-05  1.29880033e-03\n",
      "   0.00000000e+00  0.00000000e+00  0.00000000e+00  3.33759817e-02\n",
      "   0.00000000e+00  9.18489022e-02 -5.07035339e-02  0.00000000e+00\n",
      "  -4.32661656e-01 -1.59823707e-02  2.62644760e-01  5.65896342e-02\n",
      "   1.20380924e-03  1.54032399e-03  8.82124558e-02 -1.17541795e-01\n",
      "  -3.15731805e-01  1.03095823e-01  4.06340002e-02 -3.84751462e-02\n",
      "   1.60856109e-02  0.00000000e+00  1.49991480e-01  0.00000000e+00\n",
      "   0.00000000e+00  8.52113254e+00  0.00000000e+00  0.00000000e+00\n",
      "   0.00000000e+00  0.00000000e+00  0.00000000e+00  0.00000000e+00\n",
      "   0.00000000e+00 -4.48376939e-01 -1.16235923e+00  0.00000000e+00\n",
      "  -1.83390403e-01  6.29623535e-01  0.00000000e+00  0.00000000e+00\n",
      "   3.91767165e-02  0.00000000e+00  0.00000000e+00  0.00000000e+00\n",
      "   0.00000000e+00  0.00000000e+00  0.00000000e+00  7.17583333e-02\n",
      "   2.53015206e-03  0.00000000e+00 -3.41020742e-01 -1.60565043e-01\n",
      "   1.23775549e-02  0.00000000e+00 -4.79394669e-02  0.00000000e+00\n",
      "   5.23094619e-02  6.87592728e-01  0.00000000e+00  0.00000000e+00\n",
      "  -6.22433879e-03  0.00000000e+00 -7.69742807e-04 -5.45543911e-04\n",
      "  -5.23296363e-03 -1.88131116e-03  6.14358169e-03  1.18623959e-03\n",
      "  -4.03890880e-03  2.26728608e-03  1.00599274e-02  2.52361610e-01\n",
      "   1.12078132e+00 -1.00027864e+00 -5.20875864e-02  0.00000000e+00\n",
      "   1.15429350e-02  0.00000000e+00  0.00000000e+00 -3.62476142e-03\n",
      "   3.13081968e-03  0.00000000e+00  0.00000000e+00  0.00000000e+00\n",
      "   0.00000000e+00  0.00000000e+00  0.00000000e+00  0.00000000e+00\n",
      "   0.00000000e+00  0.00000000e+00  1.20927281e-02  3.92055971e-03\n",
      "   0.00000000e+00  0.00000000e+00  0.00000000e+00  0.00000000e+00\n",
      "  -2.64560933e+00 -1.36710774e+00  0.00000000e+00  4.93985110e-02\n",
      "  -9.75508060e-02  8.66718884e-03  0.00000000e+00 -1.62914132e-01\n",
      "   8.51426637e-01  5.19108400e-02  4.71529887e-01 -3.79616021e-01\n",
      "   0.00000000e+00  0.00000000e+00  0.00000000e+00  0.00000000e+00\n",
      "   0.00000000e+00  0.00000000e+00  0.00000000e+00  0.00000000e+00\n",
      "   0.00000000e+00  0.00000000e+00  0.00000000e+00 -6.56297484e-01\n",
      "   0.00000000e+00  1.68537119e-02  0.00000000e+00  0.00000000e+00\n",
      "   0.00000000e+00 -9.56494801e-01  1.26538952e+00  4.81919587e-02\n",
      "   4.02394649e-02  0.00000000e+00 -2.21934806e-01  0.00000000e+00\n",
      "   0.00000000e+00  2.36928003e-01  0.00000000e+00 -2.45987117e-02\n",
      "   0.00000000e+00  4.43501078e-01  0.00000000e+00  0.00000000e+00\n",
      "   0.00000000e+00 -4.28431136e-03 -1.51613654e-01 -7.34761540e+00\n",
      "   1.71751858e+00  0.00000000e+00 -4.23075339e+00  0.00000000e+00\n",
      "   0.00000000e+00 -4.51823609e-02  4.03087037e-02 -1.50654895e-01\n",
      "   4.74177026e-02  0.00000000e+00 -4.08604985e-01  0.00000000e+00\n",
      "   4.81393998e-01 -2.57369168e-01  0.00000000e+00  0.00000000e+00\n",
      "   0.00000000e+00 -1.32355997e-02  0.00000000e+00  0.00000000e+00\n",
      "   0.00000000e+00  2.16633406e-01  0.00000000e+00  0.00000000e+00\n",
      "   0.00000000e+00  6.90351603e-05]]\n",
      "[0.]\n"
     ]
    },
    {
     "name": "stderr",
     "output_type": "stream",
     "text": [
      "C:\\Users\\zhuoy\\anaconda3\\lib\\site-packages\\sklearn\\svm\\_base.py:977: ConvergenceWarning: Liblinear failed to converge, increase the number of iterations.\n",
      "  \"the number of iterations.\", ConvergenceWarning)\n"
     ]
    }
   ],
   "source": [
    "# LASSO, this is the classification problem, we need to use LogisticRegression with L1 penalty\n",
    "from sklearn import linear_model\n",
    "\n",
    "clf = linear_model.LogisticRegression(penalty='l1',solver='liblinear')\n",
    "clf.fit(X_res, y_res)\n",
    "\n",
    "print(clf.coef_)\n",
    "print(clf.intercept_)"
   ]
  },
  {
   "cell_type": "code",
   "execution_count": 22,
   "metadata": {},
   "outputs": [
    {
     "name": "stdout",
     "output_type": "stream",
     "text": [
      "Number of lasso_features are selected: 226\n",
      "Index of selected features: [0, 1, 2, 3, 4, 5, 6, 12, 14, 15, 16, 18, 21, 22, 23, 24, 27, 28, 29, 31, 32, 33, 34, 35, 36, 37, 38, 39, 40, 41, 42, 43, 44, 45, 46, 48, 50, 51, 55, 58, 59, 60, 63, 64, 65, 66, 67, 68, 70, 71, 72, 73, 88, 90, 91, 99, 108, 111, 115, 117, 121, 122, 123, 124, 126, 128, 129, 132, 133, 134, 135, 136, 137, 138, 139, 150, 151, 152, 158, 159, 160, 161, 162, 177, 183, 187, 188, 197, 199, 200, 201, 202, 203, 204, 205, 207, 208, 218, 223, 225, 246, 250, 268, 270, 272, 273, 274, 277, 285, 289, 293, 294, 295, 296, 297, 316, 318, 319, 321, 324, 332, 333, 335, 336, 340, 341, 344, 346, 361, 363, 388, 390, 406, 407, 410, 413, 415, 416, 417, 418, 419, 423, 425, 426, 428, 429, 430, 431, 432, 433, 434, 435, 436, 437, 438, 439, 440, 442, 445, 453, 454, 456, 457, 460, 467, 468, 470, 471, 472, 474, 476, 477, 480, 482, 483, 484, 485, 486, 487, 488, 489, 490, 491, 492, 493, 494, 496, 499, 500, 510, 511, 516, 517, 519, 520, 521, 523, 524, 525, 526, 527, 539, 541, 545, 546, 547, 548, 550, 553, 555, 557, 561, 562, 563, 564, 566, 569, 570, 571, 572, 574, 576, 577, 581, 585, 589]\n"
     ]
    }
   ],
   "source": [
    "lasso_feature = [i for i, x in enumerate (clf.coef_[0]) if x != 0]\n",
    "\n",
    "print ('Number of lasso_features are selected:', len(lasso_feature))\n",
    "print ('Index of selected features:', lasso_feature)"
   ]
  },
  {
   "cell_type": "markdown",
   "metadata": {},
   "source": [
    "In LASSO, there are 251 features are selected. "
   ]
  },
  {
   "cell_type": "code",
   "execution_count": 23,
   "metadata": {},
   "outputs": [
    {
     "data": {
      "text/plain": [
       "set()"
      ]
     },
     "execution_count": 23,
     "metadata": {},
     "output_type": "execute_result"
    }
   ],
   "source": [
    "# check common features selected from backward, forward and lasso algorithm\n",
    "set(backward) & set(forward) & set(lasso_feature)"
   ]
  },
  {
   "cell_type": "markdown",
   "metadata": {},
   "source": [
    "There is no common feature for all three features selection. That would be interesting to see how each selection performs.\n",
    "\n",
    "Let's first see how LogisticRegression with L1 penalty performs."
   ]
  },
  {
   "cell_type": "code",
   "execution_count": 24,
   "metadata": {},
   "outputs": [
    {
     "name": "stdout",
     "output_type": "stream",
     "text": [
      "roc_aucscore for forward: 0.5673854447439354\n"
     ]
    },
    {
     "name": "stderr",
     "output_type": "stream",
     "text": [
      "C:\\Users\\zhuoy\\anaconda3\\lib\\site-packages\\sklearn\\svm\\_base.py:977: ConvergenceWarning: Liblinear failed to converge, increase the number of iterations.\n",
      "  \"the number of iterations.\", ConvergenceWarning)\n"
     ]
    }
   ],
   "source": [
    "from sklearn.metrics import roc_auc_score\n",
    "\n",
    "clf = linear_model.LogisticRegression(penalty='l1',solver='liblinear')\n",
    "clf.fit(X_res, y_res)\n",
    "y_pred = clf.predict(X_test)\n",
    "print('roc_aucscore for forward:', roc_auc_score(y_test,y_pred))"
   ]
  },
  {
   "cell_type": "markdown",
   "metadata": {},
   "source": [
    "For evaluate the backward and forward selection, use LogisticRegression without any penalty."
   ]
  },
  {
   "cell_type": "code",
   "execution_count": 25,
   "metadata": {},
   "outputs": [
    {
     "name": "stdout",
     "output_type": "stream",
     "text": [
      "roc_auc score for backward: 0.5256064690026954\n"
     ]
    }
   ],
   "source": [
    "#choose only backward selection\n",
    "clf = linear_model.LogisticRegression(penalty='none').fit(X_res.iloc[:, backward], y_res)\n",
    "y_pred = clf.predict(X_test.iloc[:, backward])\n",
    "print('roc_auc score for backward:', roc_auc_score(y_test,y_pred))"
   ]
  },
  {
   "cell_type": "code",
   "execution_count": 26,
   "metadata": {
    "scrolled": true
   },
   "outputs": [
    {
     "name": "stdout",
     "output_type": "stream",
     "text": [
      "roc_auc score for forward: 0.6298292902066487\n"
     ]
    },
    {
     "name": "stderr",
     "output_type": "stream",
     "text": [
      "C:\\Users\\zhuoy\\anaconda3\\lib\\site-packages\\sklearn\\linear_model\\_logistic.py:764: ConvergenceWarning: lbfgs failed to converge (status=1):\n",
      "STOP: TOTAL NO. of ITERATIONS REACHED LIMIT.\n",
      "\n",
      "Increase the number of iterations (max_iter) or scale the data as shown in:\n",
      "    https://scikit-learn.org/stable/modules/preprocessing.html\n",
      "Please also refer to the documentation for alternative solver options:\n",
      "    https://scikit-learn.org/stable/modules/linear_model.html#logistic-regression\n",
      "  extra_warning_msg=_LOGISTIC_SOLVER_CONVERGENCE_MSG)\n"
     ]
    }
   ],
   "source": [
    "#choose only forward selection\n",
    "clf = linear_model.LogisticRegression(penalty='none').fit(X_res.iloc[:, forward], y_res)\n",
    "y_pred = clf.predict(X_test.iloc[:, forward])\n",
    "print('roc_auc score for forward:', roc_auc_score(y_test,y_pred))"
   ]
  },
  {
   "cell_type": "markdown",
   "metadata": {},
   "source": [
    "Notice that LogsiticRegression with forward selection features has the best performance (ROC) ovrall. But we noticed that some models encounter failure converge problem, which could be solved by setting the max_int. Or we could try a different model, like RandomForestClassifier"
   ]
  },
  {
   "cell_type": "code",
   "execution_count": 27,
   "metadata": {},
   "outputs": [],
   "source": [
    "from sklearn.ensemble import RandomForestClassifier"
   ]
  },
  {
   "cell_type": "code",
   "execution_count": 28,
   "metadata": {},
   "outputs": [
    {
     "name": "stdout",
     "output_type": "stream",
     "text": [
      "roc_auc score for backward: 0.5498652291105122\n"
     ]
    }
   ],
   "source": [
    "#choose only backward selection\n",
    "clf = RandomForestClassifier().fit(X_res.iloc[:, backward], y_res)\n",
    "y_pred = clf.predict(X_test.iloc[:, backward])\n",
    "print('roc_auc score for backward:', roc_auc_score(y_test,y_pred))"
   ]
  },
  {
   "cell_type": "code",
   "execution_count": 29,
   "metadata": {},
   "outputs": [
    {
     "name": "stdout",
     "output_type": "stream",
     "text": [
      "roc_auc score for forward: 0.5736747529200359\n"
     ]
    }
   ],
   "source": [
    "#choose only forward selection\n",
    "clf = RandomForestClassifier().fit(X_res.iloc[:, forward], y_res)\n",
    "y_pred = clf.predict(X_test.iloc[:, forward])\n",
    "print('roc_auc score for forward:', roc_auc_score(y_test,y_pred))"
   ]
  },
  {
   "cell_type": "code",
   "execution_count": 30,
   "metadata": {},
   "outputs": [
    {
     "name": "stdout",
     "output_type": "stream",
     "text": [
      "roc_auc score for lasso: 0.5170709793351302\n"
     ]
    }
   ],
   "source": [
    "#choose only lasso selection\n",
    "clf = RandomForestClassifier().fit(X_res.iloc[:, lasso_feature], y_res)\n",
    "y_pred = clf.predict(X_test.iloc[:, lasso_feature])\n",
    "print('roc_auc score for lasso:', roc_auc_score(y_test,y_pred))"
   ]
  },
  {
   "cell_type": "code",
   "execution_count": 31,
   "metadata": {},
   "outputs": [
    {
     "name": "stdout",
     "output_type": "stream",
     "text": [
      "roc_auc score for backward: 0.49865229110512127\n"
     ]
    }
   ],
   "source": [
    "#original model with all features\n",
    "clf = RandomForestClassifier().fit(X_res, y_res)\n",
    "y_pred = clf.predict(X_test)\n",
    "print('roc_auc score for backward:', roc_auc_score(y_test,y_pred))"
   ]
  },
  {
   "cell_type": "markdown",
   "metadata": {},
   "source": [
    "## Summary (initial findings)\n",
    "\n",
    "\n",
    "### Feature selection\n",
    "There are three feature selection we learned, backward and forward selection, and lasso selection. We have total 590 features in total (exclude the time_stamp). Using forward selection, we see that the performance increases with the number of features,  and I stop at 30 because the line is gradually leveling off. It is possible that more features yield better performance, but it should be a dramatic change. \n",
    "\n",
    "For backward selection, I also used 30 features, so that I can make comparisons bewteen backward and forward selection with the same number of features. We found that the selected features from both backward and forward selection have no overlap.\n",
    "\n",
    "For Lasso selection, I used L1 penalty, 251 features are selected (have non-zero coefficient). And there is no common features from the overlaps for all these three selection, suggesting that different algorithms results in different optimal conditons, which is quite interesting. I am also interested in how each selection performs, so I did a quick analysis.\n",
    "### Model selection (briefly)\n",
    "I firstly used the simple LogisticRegressionm, and found that model couldn't coverge. So I switched a more powerful model, RandomForestClassifier, with corresponding selected features, the performances (roc_auc) are all pretty good. And more surprisingly, both backward and forward selections have better performance than models with lasso features and all features. It makes me believe that both forward and backward selections works pretty good."
   ]
  },
  {
   "cell_type": "markdown",
   "metadata": {},
   "source": [
    "## Solicit feedback\n",
    "1. How to better visually explore the data set if have hundreds of columns? I only can think of correlation matrix plot.\n",
    "2. How should be choose the number of features in backward and forward selection?\n",
    "3. How to include the time_stamp data into the analysis? Since it's a time series data, do we use ARIMA? "
   ]
  }
 ],
 "metadata": {
  "kernelspec": {
   "display_name": "Python 3",
   "language": "python",
   "name": "python3"
  },
  "language_info": {
   "codemirror_mode": {
    "name": "ipython",
    "version": 3
   },
   "file_extension": ".py",
   "mimetype": "text/x-python",
   "name": "python",
   "nbconvert_exporter": "python",
   "pygments_lexer": "ipython3",
   "version": "3.7.6"
  }
 },
 "nbformat": 4,
 "nbformat_minor": 4
}
